{
 "cells": [
  {
   "cell_type": "code",
   "execution_count": 2,
   "metadata": {},
   "outputs": [],
   "source": [
    "import spacy\n",
    "from spacytextblob.spacytextblob import SpacyTextBlob\n",
    "import pandas as pd\n",
    "import numpy as np"
   ]
  },
  {
   "cell_type": "code",
   "execution_count": 3,
   "metadata": {},
   "outputs": [
    {
     "data": {
      "text/plain": [
       "<spacytextblob.spacytextblob.SpacyTextBlob at 0x7faf21581fd0>"
      ]
     },
     "execution_count": 3,
     "metadata": {},
     "output_type": "execute_result"
    }
   ],
   "source": [
    "nlp = spacy.load('en_core_web_sm')\n",
    "nlp.add_pipe('spacytextblob')"
   ]
  },
  {
   "cell_type": "code",
   "execution_count": 4,
   "metadata": {},
   "outputs": [],
   "source": [
    "# !pwd"
   ]
  },
  {
   "cell_type": "code",
   "execution_count": 7,
   "metadata": {},
   "outputs": [],
   "source": [
    "data = pd.read_csv(r'/Users/atharvakulkarni/Downloads/dsc96-data/ExtractedTweets.csv')\n",
    "# data = pd.read_csv(r'/Users/atharvakulkarni/dsc 96/ExtractedTweets.csv')"
   ]
  },
  {
   "cell_type": "code",
   "execution_count": 16,
   "metadata": {},
   "outputs": [
    {
     "data": {
      "text/html": [
       "<div>\n",
       "<style scoped>\n",
       "    .dataframe tbody tr th:only-of-type {\n",
       "        vertical-align: middle;\n",
       "    }\n",
       "\n",
       "    .dataframe tbody tr th {\n",
       "        vertical-align: top;\n",
       "    }\n",
       "\n",
       "    .dataframe thead th {\n",
       "        text-align: right;\n",
       "    }\n",
       "</style>\n",
       "<table border=\"1\" class=\"dataframe\">\n",
       "  <thead>\n",
       "    <tr style=\"text-align: right;\">\n",
       "      <th></th>\n",
       "      <th>Party</th>\n",
       "      <th>Handle</th>\n",
       "      <th>Tweet</th>\n",
       "      <th>scores</th>\n",
       "    </tr>\n",
       "  </thead>\n",
       "  <tbody>\n",
       "    <tr>\n",
       "      <th>0</th>\n",
       "      <td>Democrat</td>\n",
       "      <td>RepDarrenSoto</td>\n",
       "      <td>Today, Senate Dems vote to #SaveTheInternet. P...</td>\n",
       "      <td>0.40000</td>\n",
       "    </tr>\n",
       "    <tr>\n",
       "      <th>1</th>\n",
       "      <td>Democrat</td>\n",
       "      <td>RepDarrenSoto</td>\n",
       "      <td>RT @WinterHavenSun: Winter Haven resident / Al...</td>\n",
       "      <td>0.00000</td>\n",
       "    </tr>\n",
       "    <tr>\n",
       "      <th>2</th>\n",
       "      <td>Democrat</td>\n",
       "      <td>RepDarrenSoto</td>\n",
       "      <td>RT @NBCLatino: .@RepDarrenSoto noted that Hurr...</td>\n",
       "      <td>-0.20000</td>\n",
       "    </tr>\n",
       "    <tr>\n",
       "      <th>3</th>\n",
       "      <td>Democrat</td>\n",
       "      <td>RepDarrenSoto</td>\n",
       "      <td>RT @NALCABPolicy: Meeting with @RepDarrenSoto ...</td>\n",
       "      <td>0.20000</td>\n",
       "    </tr>\n",
       "    <tr>\n",
       "      <th>4</th>\n",
       "      <td>Democrat</td>\n",
       "      <td>RepDarrenSoto</td>\n",
       "      <td>RT @Vegalteno: Hurricane season starts on June...</td>\n",
       "      <td>0.00000</td>\n",
       "    </tr>\n",
       "    <tr>\n",
       "      <th>...</th>\n",
       "      <td>...</td>\n",
       "      <td>...</td>\n",
       "      <td>...</td>\n",
       "      <td>...</td>\n",
       "    </tr>\n",
       "    <tr>\n",
       "      <th>86455</th>\n",
       "      <td>Republican</td>\n",
       "      <td>RepTomPrice</td>\n",
       "      <td>Check out my op-ed on need for End Executive O...</td>\n",
       "      <td>0.00000</td>\n",
       "    </tr>\n",
       "    <tr>\n",
       "      <th>86456</th>\n",
       "      <td>Republican</td>\n",
       "      <td>RepTomPrice</td>\n",
       "      <td>Yesterday, Betty &amp;amp; I had a great time lear...</td>\n",
       "      <td>0.80000</td>\n",
       "    </tr>\n",
       "    <tr>\n",
       "      <th>86457</th>\n",
       "      <td>Republican</td>\n",
       "      <td>RepTomPrice</td>\n",
       "      <td>We are forever grateful for the service and sa...</td>\n",
       "      <td>0.06250</td>\n",
       "    </tr>\n",
       "    <tr>\n",
       "      <th>86458</th>\n",
       "      <td>Republican</td>\n",
       "      <td>RepTomPrice</td>\n",
       "      <td>Happy first day of school @CobbSchools! #CobbB...</td>\n",
       "      <td>0.55625</td>\n",
       "    </tr>\n",
       "    <tr>\n",
       "      <th>86459</th>\n",
       "      <td>Republican</td>\n",
       "      <td>RepTomPrice</td>\n",
       "      <td>#Zika fears realized in Florida. House GOP act...</td>\n",
       "      <td>0.00000</td>\n",
       "    </tr>\n",
       "  </tbody>\n",
       "</table>\n",
       "<p>86460 rows × 4 columns</p>\n",
       "</div>"
      ],
      "text/plain": [
       "            Party         Handle  \\\n",
       "0        Democrat  RepDarrenSoto   \n",
       "1        Democrat  RepDarrenSoto   \n",
       "2        Democrat  RepDarrenSoto   \n",
       "3        Democrat  RepDarrenSoto   \n",
       "4        Democrat  RepDarrenSoto   \n",
       "...           ...            ...   \n",
       "86455  Republican    RepTomPrice   \n",
       "86456  Republican    RepTomPrice   \n",
       "86457  Republican    RepTomPrice   \n",
       "86458  Republican    RepTomPrice   \n",
       "86459  Republican    RepTomPrice   \n",
       "\n",
       "                                                   Tweet   scores  \n",
       "0      Today, Senate Dems vote to #SaveTheInternet. P...  0.40000  \n",
       "1      RT @WinterHavenSun: Winter Haven resident / Al...  0.00000  \n",
       "2      RT @NBCLatino: .@RepDarrenSoto noted that Hurr... -0.20000  \n",
       "3      RT @NALCABPolicy: Meeting with @RepDarrenSoto ...  0.20000  \n",
       "4      RT @Vegalteno: Hurricane season starts on June...  0.00000  \n",
       "...                                                  ...      ...  \n",
       "86455  Check out my op-ed on need for End Executive O...  0.00000  \n",
       "86456  Yesterday, Betty &amp; I had a great time lear...  0.80000  \n",
       "86457  We are forever grateful for the service and sa...  0.06250  \n",
       "86458  Happy first day of school @CobbSchools! #CobbB...  0.55625  \n",
       "86459  #Zika fears realized in Florida. House GOP act...  0.00000  \n",
       "\n",
       "[86460 rows x 4 columns]"
      ]
     },
     "execution_count": 16,
     "metadata": {},
     "output_type": "execute_result"
    }
   ],
   "source": [
    "data"
   ]
  },
  {
   "cell_type": "code",
   "execution_count": 9,
   "metadata": {},
   "outputs": [],
   "source": [
    "data_dems = data[data.get('Party') == \"Democrat\"]"
   ]
  },
  {
   "cell_type": "code",
   "execution_count": 10,
   "metadata": {},
   "outputs": [],
   "source": [
    "sentiment_scores = np.array([])\n",
    "tweets = np.array(data.get(\"Tweet\"))\n",
    "nlp_scores = []\n",
    "\n",
    "for elem in tweets:\n",
    "    text = nlp(elem)\n",
    "#     print(text._.polarity)\n",
    "    nlp_scores.append(text._.polarity)\n",
    "    \n",
    "# print(nlp_scores)"
   ]
  },
  {
   "cell_type": "code",
   "execution_count": 11,
   "metadata": {},
   "outputs": [
    {
     "data": {
      "text/html": [
       "<div>\n",
       "<style scoped>\n",
       "    .dataframe tbody tr th:only-of-type {\n",
       "        vertical-align: middle;\n",
       "    }\n",
       "\n",
       "    .dataframe tbody tr th {\n",
       "        vertical-align: top;\n",
       "    }\n",
       "\n",
       "    .dataframe thead th {\n",
       "        text-align: right;\n",
       "    }\n",
       "</style>\n",
       "<table border=\"1\" class=\"dataframe\">\n",
       "  <thead>\n",
       "    <tr style=\"text-align: right;\">\n",
       "      <th></th>\n",
       "      <th>Party</th>\n",
       "      <th>Handle</th>\n",
       "      <th>Tweet</th>\n",
       "      <th>scores</th>\n",
       "    </tr>\n",
       "  </thead>\n",
       "  <tbody>\n",
       "    <tr>\n",
       "      <th>0</th>\n",
       "      <td>Democrat</td>\n",
       "      <td>RepDarrenSoto</td>\n",
       "      <td>Today, Senate Dems vote to #SaveTheInternet. P...</td>\n",
       "      <td>0.40000</td>\n",
       "    </tr>\n",
       "    <tr>\n",
       "      <th>1</th>\n",
       "      <td>Democrat</td>\n",
       "      <td>RepDarrenSoto</td>\n",
       "      <td>RT @WinterHavenSun: Winter Haven resident / Al...</td>\n",
       "      <td>0.00000</td>\n",
       "    </tr>\n",
       "    <tr>\n",
       "      <th>2</th>\n",
       "      <td>Democrat</td>\n",
       "      <td>RepDarrenSoto</td>\n",
       "      <td>RT @NBCLatino: .@RepDarrenSoto noted that Hurr...</td>\n",
       "      <td>-0.20000</td>\n",
       "    </tr>\n",
       "    <tr>\n",
       "      <th>3</th>\n",
       "      <td>Democrat</td>\n",
       "      <td>RepDarrenSoto</td>\n",
       "      <td>RT @NALCABPolicy: Meeting with @RepDarrenSoto ...</td>\n",
       "      <td>0.20000</td>\n",
       "    </tr>\n",
       "    <tr>\n",
       "      <th>4</th>\n",
       "      <td>Democrat</td>\n",
       "      <td>RepDarrenSoto</td>\n",
       "      <td>RT @Vegalteno: Hurricane season starts on June...</td>\n",
       "      <td>0.00000</td>\n",
       "    </tr>\n",
       "    <tr>\n",
       "      <th>...</th>\n",
       "      <td>...</td>\n",
       "      <td>...</td>\n",
       "      <td>...</td>\n",
       "      <td>...</td>\n",
       "    </tr>\n",
       "    <tr>\n",
       "      <th>86455</th>\n",
       "      <td>Republican</td>\n",
       "      <td>RepTomPrice</td>\n",
       "      <td>Check out my op-ed on need for End Executive O...</td>\n",
       "      <td>0.00000</td>\n",
       "    </tr>\n",
       "    <tr>\n",
       "      <th>86456</th>\n",
       "      <td>Republican</td>\n",
       "      <td>RepTomPrice</td>\n",
       "      <td>Yesterday, Betty &amp;amp; I had a great time lear...</td>\n",
       "      <td>0.80000</td>\n",
       "    </tr>\n",
       "    <tr>\n",
       "      <th>86457</th>\n",
       "      <td>Republican</td>\n",
       "      <td>RepTomPrice</td>\n",
       "      <td>We are forever grateful for the service and sa...</td>\n",
       "      <td>0.06250</td>\n",
       "    </tr>\n",
       "    <tr>\n",
       "      <th>86458</th>\n",
       "      <td>Republican</td>\n",
       "      <td>RepTomPrice</td>\n",
       "      <td>Happy first day of school @CobbSchools! #CobbB...</td>\n",
       "      <td>0.55625</td>\n",
       "    </tr>\n",
       "    <tr>\n",
       "      <th>86459</th>\n",
       "      <td>Republican</td>\n",
       "      <td>RepTomPrice</td>\n",
       "      <td>#Zika fears realized in Florida. House GOP act...</td>\n",
       "      <td>0.00000</td>\n",
       "    </tr>\n",
       "  </tbody>\n",
       "</table>\n",
       "<p>86460 rows × 4 columns</p>\n",
       "</div>"
      ],
      "text/plain": [
       "            Party         Handle  \\\n",
       "0        Democrat  RepDarrenSoto   \n",
       "1        Democrat  RepDarrenSoto   \n",
       "2        Democrat  RepDarrenSoto   \n",
       "3        Democrat  RepDarrenSoto   \n",
       "4        Democrat  RepDarrenSoto   \n",
       "...           ...            ...   \n",
       "86455  Republican    RepTomPrice   \n",
       "86456  Republican    RepTomPrice   \n",
       "86457  Republican    RepTomPrice   \n",
       "86458  Republican    RepTomPrice   \n",
       "86459  Republican    RepTomPrice   \n",
       "\n",
       "                                                   Tweet   scores  \n",
       "0      Today, Senate Dems vote to #SaveTheInternet. P...  0.40000  \n",
       "1      RT @WinterHavenSun: Winter Haven resident / Al...  0.00000  \n",
       "2      RT @NBCLatino: .@RepDarrenSoto noted that Hurr... -0.20000  \n",
       "3      RT @NALCABPolicy: Meeting with @RepDarrenSoto ...  0.20000  \n",
       "4      RT @Vegalteno: Hurricane season starts on June...  0.00000  \n",
       "...                                                  ...      ...  \n",
       "86455  Check out my op-ed on need for End Executive O...  0.00000  \n",
       "86456  Yesterday, Betty &amp; I had a great time lear...  0.80000  \n",
       "86457  We are forever grateful for the service and sa...  0.06250  \n",
       "86458  Happy first day of school @CobbSchools! #CobbB...  0.55625  \n",
       "86459  #Zika fears realized in Florida. House GOP act...  0.00000  \n",
       "\n",
       "[86460 rows x 4 columns]"
      ]
     },
     "execution_count": 11,
     "metadata": {},
     "output_type": "execute_result"
    }
   ],
   "source": [
    "data = data.assign(scores = nlp_scores)\n",
    "data"
   ]
  },
  {
   "cell_type": "code",
   "execution_count": 12,
   "metadata": {},
   "outputs": [
    {
     "data": {
      "text/plain": [
       "0.1365954585979902"
      ]
     },
     "execution_count": 12,
     "metadata": {},
     "output_type": "execute_result"
    }
   ],
   "source": [
    "dems_tweets = np.array(data_dems.get(\"Tweet\"))\n",
    "dems_tweets_nlp_score = 0\n",
    "\n",
    "for elem in dems_tweets:\n",
    "    text = nlp(elem)\n",
    "    dems_tweets_nlp_score += text._.polarity\n",
    "\n",
    "dems_tweets_nlp_score / len(dems_tweets)"
   ]
  },
  {
   "cell_type": "code",
   "execution_count": 13,
   "metadata": {},
   "outputs": [],
   "source": [
    "data_gop = data[data.get('Party') == \"Republican\"]"
   ]
  },
  {
   "cell_type": "code",
   "execution_count": 14,
   "metadata": {},
   "outputs": [
    {
     "data": {
      "text/plain": [
       "0.1685871727175678"
      ]
     },
     "execution_count": 14,
     "metadata": {},
     "output_type": "execute_result"
    }
   ],
   "source": [
    "gop_tweets = np.array(data_gop.get(\"Tweet\"))\n",
    "gop_tweets_nlp_score = 0\n",
    "\n",
    "for elem in gop_tweets:\n",
    "    text = nlp(elem)\n",
    "    gop_tweets_nlp_score += text._.polarity\n",
    "\n",
    "gop_tweets_nlp_score / len(gop_tweets)"
   ]
  },
  {
   "cell_type": "code",
   "execution_count": 15,
   "metadata": {},
   "outputs": [],
   "source": [
    "# finds tweets with a polarity over pol if over is True, under pol if over is False\n",
    "def find_polarity(pol, over, data):\n",
    "    if over:\n",
    "        data_only_polarity = data[data.get('scores') >= pol]\n",
    "    else:\n",
    "        data_only_polarity = data[data.get('scores') <= pol]\n",
    "    return data_only_polarity\n",
    "    "
   ]
  },
  {
   "cell_type": "code",
   "execution_count": 31,
   "metadata": {},
   "outputs": [
    {
     "data": {
      "text/plain": [
       "'Great to host James Barnes and our Fla Boilermakers @ibbunion in Washington! #UnitedWeStand @FLAFLCIO… https://t.co/tpihRwhkpP'"
      ]
     },
     "execution_count": 31,
     "metadata": {},
     "output_type": "execute_result"
    }
   ],
   "source": [
    "extreme_data_pos = find_polarity(0.8, True, data)\n",
    "extreme_data_pos.iloc[2].get(\"Tweet\")"
   ]
  },
  {
   "cell_type": "code",
   "execution_count": 27,
   "metadata": {},
   "outputs": [
    {
     "data": {
      "text/plain": [
       "'Ending #TPS for Hondurans will impact over 57,000 migrants and is another cruel decision by this administration tar… https://t.co/t0VYGdRMAa'"
      ]
     },
     "execution_count": 27,
     "metadata": {},
     "output_type": "execute_result"
    }
   ],
   "source": [
    "extreme_data_neg = find_polarity(-0.8, False, data)\n",
    "extreme_data_neg.iloc[4].get(\"Tweet\")"
   ]
  },
  {
   "cell_type": "code",
   "execution_count": 78,
   "metadata": {},
   "outputs": [],
   "source": [
    "# finds average sentiment scores for a given handle\n",
    "def find_handle_avg(handle):\n",
    "    new_data = data[data.get('Handle') == handle]\n",
    "    \n",
    "    tweets = np.array(new_data.get(\"Tweet\"))\n",
    "    nlp_score = 0\n",
    "    \n",
    "    for elem in tweets:\n",
    "        text = nlp(elem)\n",
    "        nlp_score += text._.polarity\n",
    "\n",
    "    avg = nlp_score / len(tweets)\n",
    "\n",
    "    return avg"
   ]
  },
  {
   "cell_type": "code",
   "execution_count": 79,
   "metadata": {},
   "outputs": [
    {
     "data": {
      "text/plain": [
       "0.10061232413419914"
      ]
     },
     "execution_count": 79,
     "metadata": {},
     "output_type": "execute_result"
    }
   ],
   "source": [
    "find_handle_avg(\"RepDarrenSoto\")"
   ]
  },
  {
   "cell_type": "code",
   "execution_count": 85,
   "metadata": {},
   "outputs": [
    {
     "data": {
      "text/plain": [
       "3147"
      ]
     },
     "execution_count": 85,
     "metadata": {},
     "output_type": "execute_result"
    }
   ],
   "source": [
    "# find Democratic \"extreme\" tweets\n",
    "dems1 = find_polarity(0.7, True, data[data.get('Party') == \"Democrat\"])\n",
    "dems2 = find_polarity(-0.7, False, data[data.get('Party') == \"Democrat\"])\n",
    "dems_extreme_tweets = len(dems1) + len(dems2)\n",
    "dems_extreme_tweets"
   ]
  },
  {
   "cell_type": "code",
   "execution_count": 86,
   "metadata": {},
   "outputs": [
    {
     "data": {
      "text/plain": [
       "3646"
      ]
     },
     "execution_count": 86,
     "metadata": {},
     "output_type": "execute_result"
    }
   ],
   "source": [
    "# find Republican \"extreme\" tweets\n",
    "gop1 = find_polarity(0.7, True, data[data.get('Party') == \"Republican\"])\n",
    "gop2 = find_polarity(-0.7, False, data[data.get('Party') == \"Republican\"])\n",
    "gop_extreme_tweets = len(gop1) + len(gop2)\n",
    "gop_extreme_tweets"
   ]
  },
  {
   "cell_type": "code",
   "execution_count": null,
   "metadata": {},
   "outputs": [],
   "source": []
  }
 ],
 "metadata": {
  "kernelspec": {
   "display_name": "Python 3",
   "language": "python",
   "name": "python3"
  },
  "language_info": {
   "codemirror_mode": {
    "name": "ipython",
    "version": 3
   },
   "file_extension": ".py",
   "mimetype": "text/x-python",
   "name": "python",
   "nbconvert_exporter": "python",
   "pygments_lexer": "ipython3",
   "version": "3.8.5"
  }
 },
 "nbformat": 4,
 "nbformat_minor": 4
}
